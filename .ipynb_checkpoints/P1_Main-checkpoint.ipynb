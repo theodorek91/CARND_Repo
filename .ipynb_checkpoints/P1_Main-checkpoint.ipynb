{
 "cells": [
  {
   "cell_type": "markdown",
   "metadata": {},
   "source": [
    "# Import Data"
   ]
  },
  {
   "cell_type": "code",
   "execution_count": 1,
   "metadata": {
    "scrolled": true
   },
   "outputs": [
    {
     "name": "stdout",
     "output_type": "stream",
     "text": [
      "Importing done\n"
     ]
    }
   ],
   "source": [
    "\"\"\"Import Packages for Plot, Numpy, OS dir, Copy, Math, Video Processing and I kept Matplolib to qt so that it will \n",
    "generate external figures  for multiple images rather than reduce the size and display internal to the jupyter notebook\"\"\"\n",
    "\n",
    "import matplotlib.pyplot as plt\n",
    "import matplotlib.image as mpimg\n",
    "from collections import defaultdict\n",
    "import numpy as np\n",
    "import cv2\n",
    "import os\n",
    "import copy\n",
    "import math\n",
    "from moviepy.editor import VideoFileClip\n",
    "from IPython.display import HTML\n",
    "%matplotlib qt\n",
    "\n",
    "print ('Importing done')"
   ]
  },
  {
   "cell_type": "markdown",
   "metadata": {},
   "source": [
    "   "
   ]
  },
  {
   "cell_type": "markdown",
   "metadata": {},
   "source": [
    "  "
   ]
  },
  {
   "cell_type": "markdown",
   "metadata": {},
   "source": [
    "# Function Definitions"
   ]
  },
  {
   "cell_type": "code",
   "execution_count": 4,
   "metadata": {},
   "outputs": [
    {
     "name": "stdout",
     "output_type": "stream",
     "text": [
      "function initialization done\n"
     ]
    }
   ],
   "source": [
    "#Grayscale Funtion\n",
    "def grayscale(img):\n",
    "    \"\"\"Applies the Grayscale transform\n",
    "    This will return an image with only one color channel\n",
    "    but NOTE: to see the returned image as grayscale\n",
    "    (assuming your grayscaled image is called 'gray')\n",
    "    you should call plt.imshow(gray, cmap='gray')\"\"\"\n",
    "    return cv2.cvtColor(img, cv2.COLOR_RGB2GRAY)\n",
    "    # Or use BGR2GRAY if you read an image with cv2.imread()\n",
    "    # return cv2.cvtColor(img, cv2.COLOR_BGR2GRAY)\n",
    "    \n",
    "#Canny Transform\n",
    "def canny(img, low_threshold, high_threshold):\n",
    "    \"\"\"Applies the Canny transform\"\"\"\n",
    "    return cv2.Canny(img, low_threshold, high_threshold)\n",
    "\n",
    "#Gaussian Blur\n",
    "def gaussian_blur(img, kernel_size):\n",
    "    \"\"\"Applies a Gaussian Noise kernel\"\"\"\n",
    "    return cv2.GaussianBlur(img, (kernel_size, kernel_size), 0)\n",
    "\n",
    "#Region of Interest mask\n",
    "def region_of_interest(img, vertices):\n",
    "    \"\"\"\n",
    "    Applies an image mask.\n",
    "    \n",
    "    Only keeps the region of the image defined by the polygon\n",
    "    formed from `vertices`. The rest of the image is set to black.\n",
    "    \"\"\"\n",
    "    #defining a blank mask to start with\n",
    "    mask = np.zeros_like(img)   \n",
    "    \n",
    "    #defining a 3 channel or 1 channel color to fill the mask with depending on the input image\n",
    "    if len(img.shape) > 2:\n",
    "        channel_count = img.shape[2]  # i.e. 3 or 4 depending on your image\n",
    "        ignore_mask_color = (255,) * channel_count\n",
    "    else:\n",
    "        ignore_mask_color = 255\n",
    "        \n",
    "    #filling pixels inside the polygon defined by \"vertices\" with the fill color    \n",
    "    cv2.fillPoly(mask, vertices, ignore_mask_color)\n",
    "    \n",
    "    #returning the image only where mask pixels are nonzero\n",
    "    masked_image = cv2.bitwise_and(img, mask)\n",
    "    return masked_image\n",
    "\n",
    "\"\"\"Important Modified Draw Lines Function\"\"\"\n",
    "def draw_lines(img, lines, color=[0,0,255], thickness=5):\n",
    "    global Frame\n",
    "    global cache\n",
    "    global Stack_Counter\n",
    "    \"\"\"\n",
    "    NOTE: this is the function you might want to use as a starting point once you want to \n",
    "    average/extrapolate the line segments you detect to map out the full\n",
    "    extent of the lane (going from the result shown in raw-lines-example.mp4\n",
    "    to that shown in P1_example.mp4).  \n",
    "    \n",
    "    Think about things like separating line segments by their \n",
    "    slope ((y2-y1)/(x2-x1)) to decide which segments are part of the left\n",
    "    line vs. the right line.  Then, you can average the position of each of \n",
    "    the lines and extrapolate to the top and bottom of the lane.\n",
    "    \n",
    "    This function draws `lines` with `color` and `thickness`.    \n",
    "    Lines are drawn on the image inplace (mutates the image).\n",
    "    If you want to make the lines semi-transparent, think about combining\n",
    "    this function with the weighted_img() function below\n",
    "    \"\"\"\n",
    "    \n",
    "    #global Centre Point\n",
    "    global Image_Centre_Point\n",
    "    \n",
    "    #try block incase the Frame did not find any lanes to plot. Except would read from old cache until new lanes found\n",
    "    try:\n",
    "        \n",
    "        \"\"\"Create Lines array to store the following\n",
    "        1) Points in lines\n",
    "        2) Slopes\n",
    "        3) Midpoints\n",
    "        4) Distance from centre of Image\n",
    "        5) Direction/Location of line in image (Right vs left)\n",
    "        6) Avg of all points on each side      \"\"\"\n",
    "        \n",
    "        lines_Array = defaultdict(list)\n",
    "        \n",
    "        #Calculate Slopes and Mid\n",
    "        for line in lines:\n",
    "            for x1,y1,x2,y2 in line:\n",
    "                lines_Array['points'].append([x1,y1,x2,y2])\n",
    "                lines_Array['slope'].append((y2-y1)/(x2-x1))\n",
    "                lines_Array['midpoint'].append([(x1+x2)/2,(y1+y2)/2])\n",
    "\n",
    "        # Find the total number of lanes present\n",
    "        for key,value in lines_Array.items():\n",
    "            Line_Count=sum(1 for v in value if v)\n",
    "\n",
    "        # Find if lane is left lane or right lane based on positive or negative slope\n",
    "        for i in range(0,Line_Count):\n",
    "            if lines_Array['slope'][i] >0:\n",
    "                lines_Array['direction'].append('right')\n",
    "\n",
    "            if lines_Array['slope'][i] <0:\n",
    "                lines_Array['direction'].append('left')\n",
    "        \n",
    "        #Create Empty Array to store all data of Left and Right Lanes.\n",
    "        \n",
    "        left_lanes=defaultdict(list)\n",
    "        right_lanes=defaultdict(list)\n",
    "\n",
    "        #Classification of Left or Right lines.\n",
    "        for i in range(0,Line_Count-1):\n",
    "            #print('index',i)\n",
    "            #print('length',len(lines_Array['direction']))\n",
    "            if lines_Array['direction'][i] == 'left':\n",
    "                left_lanes['points'].append(lines_Array['points'][i])\n",
    "                left_lanes['slope'].append(lines_Array['slope'][i])\n",
    "                left_lanes['midpoint'].append(lines_Array['midpoint'][i])\n",
    "                left_lanes['dist_from_centre'].append(dist_frm_Centre(lines_Array['midpoint'][i]))\n",
    "\n",
    "        for i in range(0,Line_Count-1):\n",
    "            if lines_Array['direction'][i] == 'right':\n",
    "                right_lanes['points'].append(lines_Array['points'][i])\n",
    "                right_lanes['slope'].append(lines_Array['slope'][i])\n",
    "                right_lanes['midpoint'].append(lines_Array['midpoint'][i])\n",
    "                right_lanes['dist_from_centre'].append(dist_frm_Centre(lines_Array['midpoint'][i]))\n",
    "        \n",
    "        #Calculate total number of left and right lines\n",
    "        \n",
    "        left_Line_Count=0\n",
    "        right_Line_Count=0\n",
    "        for key,value in left_lanes.items():\n",
    "            left_Line_Count=sum(1 for v in value if v)  \n",
    "        for key,value in right_lanes.items():\n",
    "            right_Line_Count=sum(1 for v in value if v)  \n",
    "\n",
    "        \"\"\"Two steps being done below:\n",
    "        1) Assign Weights to lanes based on distance of line midpoint from Centre of Image\n",
    "        2) Calculate Weighted Average of points based on assigned weights.\"\"\"\n",
    "        \n",
    "        if left_Line_Count>0:\n",
    "            left_assigned = assign_weights(left_lanes)\n",
    "            lwa=weighted_average(left_assigned)\n",
    "        else:\n",
    "            return \n",
    "        if right_Line_Count>0:\n",
    "            right_assigned = assign_weights(right_lanes)\n",
    "            rwa=weighted_average(right_assigned)\n",
    "        else:\n",
    "            return\n",
    "\n",
    "        # Create stach of Cache of 25 frames. \n",
    "        if Frame <=25:\n",
    "            cache['lwa'+str(Frame)].append(lwa)\n",
    "            cache['rwa'+str(Frame)].append(rwa)\n",
    "        \n",
    "        # If Frames exceed 25, remove top of stack and reinsert new value into stack.\n",
    "        if Frame >25:\n",
    "            cache.pop('lwa'+str(Frame-7))\n",
    "            cache['lwa'+str(Frame)].append(lwa)\n",
    "            cache.pop('rwa'+str(Frame-7))\n",
    "            cache['rwa'+str(Frame)].append(rwa)\n",
    "            Stack_Counter=Stack_Counter+1\n",
    "        \n",
    "        #Caluclate Average of Cache\n",
    "                      \n",
    "        new_lwa, new_rwa =Avg_cache(cache)\n",
    "\n",
    "        Frame=Frame+1\n",
    "        \n",
    "        # Extrapolate third point close to bottom edge of immage based on new two points and then plot Line\n",
    "                      \n",
    "        third_point=((540-new_lwa[0][1])/((new_lwa[0][3]-new_lwa[0][1])/(new_lwa[0][2]-new_lwa[0][0])))+new_lwa[0][0]\n",
    "        cv2.line(img, (int(new_lwa[0][2]), int(new_lwa[0][3])), (int(third_point), 540 ), color, thickness)\n",
    "        third_point=((540-new_rwa[0][1])/((new_rwa[0][3]-new_rwa[0][1])/(new_rwa[0][2]-new_rwa[0][0])))+new_rwa[0][0]\n",
    "        cv2.line(img, (int(third_point), 540),(int(new_rwa[0][0]), int(new_rwa[0][1])), color, thickness)\n",
    "        \n",
    "    except:\n",
    "        print('no lane detected')\n",
    "        #Caluclate Average of Cache\n",
    "                      \n",
    "        new_lwa, new_rwa =Avg_cache(cache)\n",
    "\n",
    "        # Extrapolate third point close to bottom edge of immage based on new two points and then plot Line\n",
    "                      \n",
    "        third_point=((540-new_lwa[0][1])/((new_lwa[0][3]-new_lwa[0][1])/(new_lwa[0][2]-new_lwa[0][0])))+new_lwa[0][0]\n",
    "        cv2.line(img, (int(new_lwa[0][2]), int(new_lwa[0][3])), (int(third_point), 540 ), color, thickness)\n",
    "        third_point=((540-new_rwa[0][1])/((new_rwa[0][3]-new_rwa[0][1])/(new_rwa[0][2]-new_rwa[0][0])))+new_rwa[0][0]\n",
    "        cv2.line(img, (int(third_point), 540),(int(new_rwa[0][0]), int(new_rwa[0][1])), color, thickness)\n",
    "        return\n",
    "    \n",
    "                      \n",
    "# Calculate average of Cache\n",
    "def Avg_cache(cache):\n",
    "    avg_cache=[]\n",
    "    for key, value in cache.items():\n",
    "        if 'lwa' in key:\n",
    "            if value[0]['avg'] != [[]]:\n",
    "                avg_cache.append(value[0]['avg'])\n",
    "            \n",
    "    lwa_avg = np.mean(avg_cache,axis=0)\n",
    "    avg_cache=[]\n",
    "    for key, value in cache.items():\n",
    "        if 'rwa' in key:\n",
    "            avg_cache.append(value[0]['avg'])\n",
    "    rwa_avg = np.mean(avg_cache,axis=0)\n",
    "    \n",
    "    return lwa_avg, rwa_avg\n",
    "    \n",
    "#Calculate Weighted Average            \n",
    "def weighted_average(lines):\n",
    "    for key,value in lines.items():\n",
    "        Line_Count=sum(1 for v in value if v)\n",
    "    avg=[]   \n",
    "    for i in range(0,Line_Count):\n",
    "        a=copy.copy(np.array(lines['points'][i]))\n",
    "        b=copy.copy(lines['weights'][i])\n",
    "        avg.append(np.multiply(a,b))\n",
    "    lines['avg'].append([sum(i) for i in zip(*avg)])\n",
    "    return(lines)\n",
    "    \n",
    "# Create weights and Assign to points giving importance to points closer to centre of image.\n",
    "def assign_weights(lines):\n",
    "    #get the total number of midpoints to work with\n",
    "    for key,value in lines.items():\n",
    "        Line_Count=sum(1 for v in value if v)\n",
    "    #Get assignable weights summed to 1 \n",
    "    \n",
    "    weights = np.sort(np.random.rand(1,Line_Count))\n",
    "    weight_sum=np.sum(weights)\n",
    "    for i in range(0,Line_Count):\n",
    "        weights[0][i] = (weights[0][i]/weight_sum)\n",
    "    weights=np.fliplr(weights)\n",
    "\n",
    "    #assign weights\n",
    "    lines['weights']=copy.copy(lines['dist_from_centre'])\n",
    "    sorted_dist=np.sort(lines['dist_from_centre'])\n",
    "    counter=0; # for weight iteration\n",
    "    for i in sorted_dist:\n",
    "        ind=lines['dist_from_centre'].index(i)\n",
    "        #print('weights',(weights), 'counter',counter)\n",
    "        lines['weights'][ind]=weights[0][counter]\n",
    "        counter=counter+1\n",
    "    return(lines)\n",
    "        \n",
    "# calculate Distance of midpoint of line from Centre of image.\n",
    "def dist_frm_Centre(points):\n",
    "    dist = np.sqrt(np.square(Image_Centre_Point[0]-points[0])+np.square(Image_Centre_Point[1]-points[1]))\n",
    "    return dist\n",
    "    \n",
    "#hough Transform\n",
    "def hough_lines(img, rho, theta, threshold, min_line_len, max_line_gap):\n",
    "    \"\"\"\n",
    "    `img` should be the output of a Canny transform.\n",
    "        \n",
    "    Returns an image with hough lines drawn.\n",
    "    \"\"\"\n",
    "    lines = cv2.HoughLinesP(img, rho, theta, threshold, np.array([]), minLineLength=min_line_len, maxLineGap=max_line_gap)\n",
    "    line_img = np.zeros((img.shape[0], img.shape[1], 3), dtype=np.uint8)\n",
    "    draw_lines(line_img, lines)\n",
    "    return line_img\n",
    "\n",
    "def weighted_img(img, initial_img, α=0.8, β=1., λ=0.):\n",
    "    \"\"\"\n",
    "    `img` is the output of the hough_lines(), An image with lines drawn on it.\n",
    "    Should be a blank image (all black) with lines drawn on it.\n",
    "    \n",
    "    `initial_img` should be the image before any processing.\n",
    "    \n",
    "    The result image is computed as follows:\n",
    "    \n",
    "    initial_img * α + img * β + λ\n",
    "    NOTE: initial_img and img must be the same shape!\n",
    "    \"\"\"\n",
    "    return cv2.addWeighted(initial_img, α, img, β, λ)\n",
    "\n",
    "# MAIN LOOP\n",
    "def process_image(Image,display=False):\n",
    "    \n",
    "    global Image_Centre_Point\n",
    "    global Frame\n",
    "    global cache\n",
    "    \n",
    "    Image_Centre_Point=[Image.shape[1]/2,Image.shape[0]/2]\n",
    "        \n",
    "    #Convert to Grayscale\n",
    "    Image_Gray = grayscale(Image)\n",
    "\n",
    "    #Convert to HSV, extract yellow and White lines and Apply Mask\n",
    "    Image_HSV = cv2.cvtColor(Image, cv2.COLOR_RGB2HSV)\n",
    "    Image_Yellow =cv2.inRange(Image_HSV, np.array([20,75,100],dtype ='uint8'), np.array([30,255,255],dtype ='uint8'))\n",
    "    Image_White =cv2.inRange(Image_HSV, np.array([0,0,150],dtype ='uint8'), np.array([255,255,255],dtype ='uint8'))\n",
    "    Final_mask=cv2.bitwise_or(Image_Yellow,Image_White)\n",
    "\n",
    "    #Apply Gausian Blur\n",
    "    gaus_img2 =gaussian_blur(Final_mask,5)\n",
    "    \n",
    "    #Apply Canny Transform\n",
    "    Canny_Image = canny(gaus_img2,100,150)\n",
    "\n",
    "    #Apply Region Of Interest Mask\n",
    "    cropped_Canny = region_of_interest(Canny_Image,np.array( [[[150,Image.shape[0]],[260,400],[500,310],[726 ,400],[850,Image.shape[0]]]], dtype=np.int32 ))\n",
    "\n",
    "    # Hough Lines\n",
    "    rho = 4\n",
    "    theta = np.pi/180  *0.25\n",
    "    threshold = 20\n",
    "    min_line_length =100\n",
    "    max_line_gap =75\n",
    "    line_image = np.copy(Image)*0\n",
    "    hough_img =hough_lines(cropped_Canny,rho,theta,threshold,min_line_length,max_line_gap)\n",
    "    color_edges = np.dstack((Canny_Image, Canny_Image, Canny_Image)) \n",
    "    final_image= weighted_img(hough_img,Image)\n",
    "    \n",
    "    # Chose to display images or not.\n",
    "    if display==True:\n",
    "        fig1=plt.figure( figsize=(16,9))\n",
    "        ax1=fig1.add_subplot(2,2,1)\n",
    "        ax1=plt.imshow(Image)\n",
    "        ax2=fig1.add_subplot(2,2,4)\n",
    "        ax2=plt.imshow(final_image)\n",
    "        ax3=fig1.add_subplot(2,2,2)\n",
    "        ax3=plt.imshow(hough_img)\n",
    "        ax4=fig1.add_subplot(2,2,3)\n",
    "        ax4=plt.imshow(Canny_Image)\n",
    "        fig1.show()\n",
    "    \n",
    "    return final_image\n",
    "\n",
    "#Same function as above just with a modified White plane.\n",
    "def process_image_Challenge(Image,display=False):\n",
    "    \n",
    "    global Image_Centre_Point\n",
    "    global Frame\n",
    "    global cache\n",
    "    \n",
    "    Image_Centre_Point=[Image.shape[1]/2,Image.shape[0]/2]\n",
    "        \n",
    "    #Convert to Grayscale\n",
    "    Image_Gray = grayscale(Image)\n",
    "\n",
    "    #Convert to HSV\n",
    "    Image_HSV = cv2.cvtColor(Image, cv2.COLOR_RGB2HSV)\n",
    "    Image_Yellow =cv2.inRange(Image_HSV, np.array([20,75,100],dtype ='uint8'), np.array([30,255,255],dtype ='uint8'))\n",
    "    Image_White =cv2.inRange(Image, np.array([0,0,150],dtype ='uint8'), np.array([255,255,255],dtype ='uint8'))\n",
    "    Final_mask=cv2.bitwise_or(Image_Yellow,Image_White)\n",
    "\n",
    "    \n",
    "    gaus_img2 =gaussian_blur(Final_mask,5)\n",
    "\n",
    "    Canny_Image = canny(gaus_img2,80,200)\n",
    "\n",
    "    cropped_Canny = region_of_interest(Canny_Image,np.array( [[[Image.shape[1]/9,Image.shape[0]],[Image.shape[1]/6,400],[500,300],[Image.shape[1]-Image.shape[1]/6 ,400],[Image.shape[1]-Image.shape[1]/9,Image.shape[0]]]], dtype=np.int32 ))\n",
    "\n",
    "    #Hough Lines\n",
    "    rho = 3\n",
    "    theta = np.pi/180  *0.75\n",
    "    threshold = 20\n",
    "    min_line_length =100\n",
    "    max_line_gap =75\n",
    "    line_image = np.copy(Image)*0\n",
    "    hough_img =hough_lines(cropped_Canny,rho,theta,threshold,min_line_length,max_line_gap)\n",
    "    #plt.imshow(hough_img)\n",
    "    color_edges = np.dstack((Canny_Image, Canny_Image, Canny_Image)) \n",
    "    \n",
    "    final_image= weighted_img(hough_img,Image)\n",
    "    \n",
    "    if display==True:\n",
    "        fig1=plt.figure( figsize=(16,9))\n",
    "        ax1=fig1.add_subplot(2,2,1)\n",
    "        ax1=plt.imshow(Image)\n",
    "        ax2=fig1.add_subplot(2,2,4)\n",
    "        ax2=plt.imshow(final_image)\n",
    "        ax3=fig1.add_subplot(2,2,2)\n",
    "        ax3=plt.imshow(hough_img)\n",
    "        ax4=fig1.add_subplot(2,2,3)\n",
    "        ax4=plt.imshow(Canny_Image)\n",
    "        fig1.show()\n",
    "        \n",
    "\t\n",
    "    return final_image\n",
    "        \n",
    "print ('function initialization done')"
   ]
  },
  {
   "cell_type": "markdown",
   "metadata": {},
   "source": [
    " "
   ]
  },
  {
   "cell_type": "markdown",
   "metadata": {},
   "source": [
    " \n",
    "    \n",
    "    \n",
    "    \n",
    "    \n",
    "    "
   ]
  },
  {
   "cell_type": "markdown",
   "metadata": {},
   "source": [
    "# Main Code"
   ]
  },
  {
   "cell_type": "markdown",
   "metadata": {},
   "source": [
    "**To Test All Images**"
   ]
  },
  {
   "cell_type": "code",
   "execution_count": null,
   "metadata": {
    "collapsed": true,
    "scrolled": true
   },
   "outputs": [],
   "source": [
    "global Frame\n",
    "global cache\n",
    "global Stack_Counter\n",
    "Stack_Counter=1\n",
    "cache=defaultdict(list)\n",
    "Frame=1\n",
    "for picture in os.listdir('test_images/'):\n",
    "    Img = mpimg.imread('test_images/'+ picture)\n",
    "    processed=process_image(Img,True)\n",
    "    mpimg.imsave(\"processed_images/annotated_\"+picture,processed)"
   ]
  },
  {
   "cell_type": "markdown",
   "metadata": {},
   "source": [
    "**To Test Individual Images**"
   ]
  },
  {
   "cell_type": "code",
   "execution_count": null,
   "metadata": {
    "collapsed": true
   },
   "outputs": [],
   "source": [
    "global Frame\n",
    "global cache\n",
    "cache=defaultdict(list)\n",
    "Frame=1\n",
    "Img = mpimg.imread('test_images/solidWhiteRight.jpg')\n",
    "Hough_i2=process_image(Img, True)\n",
    "\n"
   ]
  },
  {
   "cell_type": "markdown",
   "metadata": {},
   "source": [
    " "
   ]
  },
  {
   "cell_type": "markdown",
   "metadata": {},
   "source": [
    "**To Test Videos**"
   ]
  },
  {
   "cell_type": "markdown",
   "metadata": {},
   "source": [
    "Video 1"
   ]
  },
  {
   "cell_type": "code",
   "execution_count": 5,
   "metadata": {
    "scrolled": true
   },
   "outputs": [
    {
     "name": "stdout",
     "output_type": "stream",
     "text": [
      "[MoviePy] >>>> Building video test_videos_output/solidWhiteRight.mp4\n",
      "[MoviePy] Writing video test_videos_output/solidWhiteRight.mp4\n"
     ]
    },
    {
     "name": "stderr",
     "output_type": "stream",
     "text": [
      "100%|███████████████████████████████████████▊| 221/222 [00:04<00:00, 51.00it/s]\n"
     ]
    },
    {
     "name": "stdout",
     "output_type": "stream",
     "text": [
      "[MoviePy] Done.\n",
      "[MoviePy] >>>> Video ready: test_videos_output/solidWhiteRight.mp4 \n",
      "\n",
      "Wall time: 4.7 s\n"
     ]
    }
   ],
   "source": [
    "global Frame\n",
    "global cache\n",
    "global Stack_Counter\n",
    "Stack_Counter=1\n",
    "cache=defaultdict(list)\n",
    "Frame=1\n",
    "white_output = 'test_videos_output/solidWhiteRight.mp4'\n",
    "clip1 = VideoFileClip(\"test_videos/solidWhiteRight.mp4\")\n",
    "white_clip = clip1.fl_image(process_image) #NOTE: this function expects color images!!\n",
    "%time white_clip.write_videofile(white_output, audio=False)"
   ]
  },
  {
   "cell_type": "code",
   "execution_count": 6,
   "metadata": {},
   "outputs": [
    {
     "data": {
      "text/html": [
       "\n",
       "<video width=\"960\" height=\"540\" controls>\n",
       "  <source src=\"test_videos_output/solidWhiteRight.mp4\">\n",
       "</video>\n"
      ],
      "text/plain": [
       "<IPython.core.display.HTML object>"
      ]
     },
     "execution_count": 6,
     "metadata": {},
     "output_type": "execute_result"
    }
   ],
   "source": [
    "HTML(\"\"\"\n",
    "<video width=\"960\" height=\"540\" controls>\n",
    "  <source src=\"{0}\">\n",
    "</video>\n",
    "\"\"\".format(white_output))"
   ]
  },
  {
   "cell_type": "markdown",
   "metadata": {},
   "source": [
    " "
   ]
  },
  {
   "cell_type": "markdown",
   "metadata": {},
   "source": [
    "Video 2"
   ]
  },
  {
   "cell_type": "code",
   "execution_count": 7,
   "metadata": {
    "scrolled": false
   },
   "outputs": [
    {
     "name": "stdout",
     "output_type": "stream",
     "text": [
      "[MoviePy] >>>> Building video test_videos_output/solidYellowLeft.mp4\n",
      "[MoviePy] Writing video test_videos_output/solidYellowLeft.mp4\n"
     ]
    },
    {
     "name": "stderr",
     "output_type": "stream",
     "text": [
      "100%|███████████████████████████████████████▉| 681/682 [00:13<00:00, 48.77it/s]\n"
     ]
    },
    {
     "name": "stdout",
     "output_type": "stream",
     "text": [
      "[MoviePy] Done.\n",
      "[MoviePy] >>>> Video ready: test_videos_output/solidYellowLeft.mp4 \n",
      "\n",
      "Wall time: 14.3 s\n"
     ]
    }
   ],
   "source": [
    "global Frame\n",
    "global cache\n",
    "global Stack_Counter\n",
    "Stack_Counter=1\n",
    "cache=defaultdict(list)\n",
    "Frame=1\n",
    "yellow_output = 'test_videos_output/solidYellowLeft.mp4'\n",
    "clip2 = VideoFileClip('test_videos/solidYellowLeft.mp4')\n",
    "yellow_clip = clip2.fl_image(process_image)\n",
    "%time yellow_clip.write_videofile(yellow_output, audio=False)"
   ]
  },
  {
   "cell_type": "code",
   "execution_count": 8,
   "metadata": {},
   "outputs": [
    {
     "data": {
      "text/html": [
       "\n",
       "<video width=\"960\" height=\"540\" controls>\n",
       "  <source src=\"test_videos_output/solidYellowLeft.mp4\">\n",
       "</video>\n"
      ],
      "text/plain": [
       "<IPython.core.display.HTML object>"
      ]
     },
     "execution_count": 8,
     "metadata": {},
     "output_type": "execute_result"
    }
   ],
   "source": [
    "HTML(\"\"\"\n",
    "<video width=\"960\" height=\"540\" controls>\n",
    "  <source src=\"{0}\">\n",
    "</video>\n",
    "\"\"\".format(yellow_output))"
   ]
  },
  {
   "cell_type": "markdown",
   "metadata": {},
   "source": [
    " \n"
   ]
  },
  {
   "cell_type": "markdown",
   "metadata": {},
   "source": [
    "Video 3"
   ]
  },
  {
   "cell_type": "code",
   "execution_count": 9,
   "metadata": {
    "scrolled": true
   },
   "outputs": [
    {
     "name": "stdout",
     "output_type": "stream",
     "text": [
      "[MoviePy] >>>> Building video test_videos_output/challenge.mp4\n",
      "[MoviePy] Writing video test_videos_output/challenge.mp4\n"
     ]
    },
    {
     "name": "stderr",
     "output_type": "stream",
     "text": [
      " 13%|█████▍                                   | 33/251 [00:00<00:05, 42.05it/s]"
     ]
    },
    {
     "name": "stdout",
     "output_type": "stream",
     "text": [
      "no lane detected\n",
      "no lane detected\n"
     ]
    },
    {
     "name": "stderr",
     "output_type": "stream",
     "text": [
      "\r",
      " 15%|██████                                   | 37/251 [00:00<00:05, 40.78it/s]"
     ]
    },
    {
     "name": "stdout",
     "output_type": "stream",
     "text": [
      "no lane detected\n",
      "no lane detected\n"
     ]
    },
    {
     "name": "stderr",
     "output_type": "stream",
     "text": [
      " 24%|█████████▉                               | 61/251 [00:01<00:05, 37.50it/s]"
     ]
    },
    {
     "name": "stdout",
     "output_type": "stream",
     "text": [
      "no lane detected\n"
     ]
    },
    {
     "name": "stderr",
     "output_type": "stream",
     "text": [
      "\r",
      " 26%|██████████▌                              | 65/251 [00:01<00:05, 36.05it/s]"
     ]
    },
    {
     "name": "stdout",
     "output_type": "stream",
     "text": [
      "no lane detected\n",
      "no lane detected\n"
     ]
    },
    {
     "name": "stderr",
     "output_type": "stream",
     "text": [
      "\r",
      " 27%|███████████▎                             | 69/251 [00:01<00:05, 34.02it/s]"
     ]
    },
    {
     "name": "stdout",
     "output_type": "stream",
     "text": [
      "no lane detected\n"
     ]
    },
    {
     "name": "stderr",
     "output_type": "stream",
     "text": [
      "\r",
      " 29%|███████████▉                             | 73/251 [00:01<00:05, 32.89it/s]"
     ]
    },
    {
     "name": "stdout",
     "output_type": "stream",
     "text": [
      "no lane detected\n"
     ]
    },
    {
     "name": "stderr",
     "output_type": "stream",
     "text": [
      "\r",
      " 31%|████████████▌                            | 77/251 [00:02<00:05, 31.10it/s]"
     ]
    },
    {
     "name": "stdout",
     "output_type": "stream",
     "text": [
      "no lane detected\n"
     ]
    },
    {
     "name": "stderr",
     "output_type": "stream",
     "text": [
      "\r",
      " 32%|█████████████▏                           | 81/251 [00:02<00:05, 30.93it/s]"
     ]
    },
    {
     "name": "stdout",
     "output_type": "stream",
     "text": [
      "no lane detected\n"
     ]
    },
    {
     "name": "stderr",
     "output_type": "stream",
     "text": [
      "\r",
      " 34%|█████████████▉                           | 85/251 [00:02<00:05, 31.09it/s]"
     ]
    },
    {
     "name": "stdout",
     "output_type": "stream",
     "text": [
      "no lane detected\n"
     ]
    },
    {
     "name": "stderr",
     "output_type": "stream",
     "text": [
      "\r",
      " 35%|██████████████▌                          | 89/251 [00:02<00:05, 30.02it/s]"
     ]
    },
    {
     "name": "stdout",
     "output_type": "stream",
     "text": [
      "no lane detected\n"
     ]
    },
    {
     "name": "stderr",
     "output_type": "stream",
     "text": [
      "\r",
      " 37%|███████████████▏                         | 93/251 [00:02<00:05, 29.77it/s]"
     ]
    },
    {
     "name": "stdout",
     "output_type": "stream",
     "text": [
      "no lane detected\n"
     ]
    },
    {
     "name": "stderr",
     "output_type": "stream",
     "text": [
      "\r",
      " 38%|███████████████▋                         | 96/251 [00:02<00:05, 29.23it/s]"
     ]
    },
    {
     "name": "stdout",
     "output_type": "stream",
     "text": [
      "no lane detected\n",
      "no lane detected\n"
     ]
    },
    {
     "name": "stderr",
     "output_type": "stream",
     "text": [
      "\r",
      " 39%|████████████████▏                        | 99/251 [00:02<00:05, 29.28it/s]"
     ]
    },
    {
     "name": "stdout",
     "output_type": "stream",
     "text": [
      "no lane detected\n",
      "no lane detected\n"
     ]
    },
    {
     "name": "stderr",
     "output_type": "stream",
     "text": [
      "\r",
      " 41%|████████████████▎                       | 102/251 [00:02<00:05, 29.06it/s]"
     ]
    },
    {
     "name": "stdout",
     "output_type": "stream",
     "text": [
      "no lane detected\n",
      "no lane detected\n",
      "no lane detected\n"
     ]
    },
    {
     "name": "stderr",
     "output_type": "stream",
     "text": [
      "\r",
      " 42%|████████████████▋                       | 105/251 [00:03<00:05, 27.79it/s]"
     ]
    },
    {
     "name": "stdout",
     "output_type": "stream",
     "text": [
      "no lane detected\n",
      "no lane detected\n",
      "no lane detected\n"
     ]
    },
    {
     "name": "stderr",
     "output_type": "stream",
     "text": [
      "\r",
      " 43%|█████████████████▏                      | 108/251 [00:03<00:05, 25.78it/s]"
     ]
    },
    {
     "name": "stdout",
     "output_type": "stream",
     "text": [
      "no lane detected\n",
      "no lane detected\n",
      "no lane detected\n"
     ]
    },
    {
     "name": "stderr",
     "output_type": "stream",
     "text": [
      "\r",
      " 44%|█████████████████▋                      | 111/251 [00:03<00:05, 23.95it/s]"
     ]
    },
    {
     "name": "stdout",
     "output_type": "stream",
     "text": [
      "no lane detected\n",
      "no lane detected\n",
      "no lane detected\n"
     ]
    },
    {
     "name": "stderr",
     "output_type": "stream",
     "text": [
      "\r",
      " 45%|██████████████████▏                     | 114/251 [00:03<00:05, 23.46it/s]"
     ]
    },
    {
     "name": "stdout",
     "output_type": "stream",
     "text": [
      "no lane detected\n",
      "no lane detected\n",
      "no lane detected\n"
     ]
    },
    {
     "name": "stderr",
     "output_type": "stream",
     "text": [
      "\r",
      " 47%|██████████████████▋                     | 117/251 [00:03<00:05, 23.07it/s]"
     ]
    },
    {
     "name": "stdout",
     "output_type": "stream",
     "text": [
      "no lane detected\n",
      "no lane detected\n",
      "no lane detected\n"
     ]
    },
    {
     "name": "stderr",
     "output_type": "stream",
     "text": [
      "\r",
      " 48%|███████████████████                     | 120/251 [00:03<00:05, 22.86it/s]"
     ]
    },
    {
     "name": "stdout",
     "output_type": "stream",
     "text": [
      "no lane detected\n",
      "no lane detected\n",
      "no lane detected\n"
     ]
    },
    {
     "name": "stderr",
     "output_type": "stream",
     "text": [
      "\r",
      " 49%|███████████████████▌                    | 123/251 [00:03<00:05, 22.77it/s]"
     ]
    },
    {
     "name": "stdout",
     "output_type": "stream",
     "text": [
      "no lane detected\n",
      "no lane detected\n",
      "no lane detected\n"
     ]
    },
    {
     "name": "stderr",
     "output_type": "stream",
     "text": [
      "\r",
      " 50%|████████████████████                    | 126/251 [00:03<00:05, 22.70it/s]"
     ]
    },
    {
     "name": "stdout",
     "output_type": "stream",
     "text": [
      "no lane detected\n",
      "no lane detected\n",
      "no lane detected\n"
     ]
    },
    {
     "name": "stderr",
     "output_type": "stream",
     "text": [
      "\r",
      " 51%|████████████████████▌                   | 129/251 [00:04<00:05, 22.71it/s]"
     ]
    },
    {
     "name": "stdout",
     "output_type": "stream",
     "text": [
      "no lane detected\n",
      "no lane detected\n",
      "no lane detected\n"
     ]
    },
    {
     "name": "stderr",
     "output_type": "stream",
     "text": [
      "\r",
      " 53%|█████████████████████                   | 132/251 [00:04<00:05, 23.03it/s]"
     ]
    },
    {
     "name": "stdout",
     "output_type": "stream",
     "text": [
      "no lane detected\n",
      "no lane detected\n",
      "no lane detected\n"
     ]
    },
    {
     "name": "stderr",
     "output_type": "stream",
     "text": [
      "\r",
      " 54%|█████████████████████▌                  | 135/251 [00:04<00:04, 23.48it/s]"
     ]
    },
    {
     "name": "stdout",
     "output_type": "stream",
     "text": [
      "no lane detected\n",
      "no lane detected\n",
      "no lane detected\n"
     ]
    },
    {
     "name": "stderr",
     "output_type": "stream",
     "text": [
      "\r",
      " 55%|█████████████████████▉                  | 138/251 [00:04<00:04, 23.46it/s]"
     ]
    },
    {
     "name": "stdout",
     "output_type": "stream",
     "text": [
      "no lane detected\n",
      "no lane detected\n",
      "no lane detected\n"
     ]
    },
    {
     "name": "stderr",
     "output_type": "stream",
     "text": [
      "\r",
      " 56%|██████████████████████▍                 | 141/251 [00:04<00:04, 23.62it/s]"
     ]
    },
    {
     "name": "stdout",
     "output_type": "stream",
     "text": [
      "no lane detected\n",
      "no lane detected\n",
      "no lane detected\n"
     ]
    },
    {
     "name": "stderr",
     "output_type": "stream",
     "text": [
      "\r",
      " 57%|██████████████████████▉                 | 144/251 [00:04<00:04, 24.19it/s]"
     ]
    },
    {
     "name": "stdout",
     "output_type": "stream",
     "text": [
      "no lane detected\n",
      "no lane detected\n",
      "no lane detected\n"
     ]
    },
    {
     "name": "stderr",
     "output_type": "stream",
     "text": [
      "100%|████████████████████████████████████████| 251/251 [00:07<00:00, 32.43it/s]\n"
     ]
    },
    {
     "name": "stdout",
     "output_type": "stream",
     "text": [
      "[MoviePy] Done.\n",
      "[MoviePy] >>>> Video ready: test_videos_output/challenge.mp4 \n",
      "\n",
      "Wall time: 8.12 s\n"
     ]
    }
   ],
   "source": [
    "global Frame\n",
    "global cache\n",
    "global Stack_Counter\n",
    "Stack_Counter=1\n",
    "cache=defaultdict(list)\n",
    "Frame=1\n",
    "challenge_output = 'test_videos_output/challenge.mp4'\n",
    "clip3 = VideoFileClip('test_videos/challenge.mp4')\n",
    "new_clip= clip3.resize(height=540,width=96)\n",
    "challenge_clip =new_clip.fl_image(process_image_Challenge)\n",
    "%time challenge_clip.write_videofile(challenge_output, audio=False)"
   ]
  },
  {
   "cell_type": "code",
   "execution_count": 10,
   "metadata": {},
   "outputs": [
    {
     "data": {
      "text/html": [
       "\n",
       "<video width=\"960\" height=\"540\" controls>\n",
       "  <source src=\"test_videos_output/challenge.mp4\">\n",
       "</video>\n"
      ],
      "text/plain": [
       "<IPython.core.display.HTML object>"
      ]
     },
     "execution_count": 10,
     "metadata": {},
     "output_type": "execute_result"
    }
   ],
   "source": [
    "HTML(\"\"\"\n",
    "<video width=\"960\" height=\"540\" controls>\n",
    "  <source src=\"{0}\">\n",
    "</video>\n",
    "\"\"\".format(challenge_output))"
   ]
  }
 ],
 "metadata": {
  "kernelspec": {
   "display_name": "Python 3",
   "language": "python",
   "name": "python3"
  },
  "language_info": {
   "codemirror_mode": {
    "name": "ipython",
    "version": 3
   },
   "file_extension": ".py",
   "mimetype": "text/x-python",
   "name": "python",
   "nbconvert_exporter": "python",
   "pygments_lexer": "ipython3",
   "version": "3.5.2"
  },
  "widgets": {
   "state": {},
   "version": "1.1.2"
  }
 },
 "nbformat": 4,
 "nbformat_minor": 2
}
